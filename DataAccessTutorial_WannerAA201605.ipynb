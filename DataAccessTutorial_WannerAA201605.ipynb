{
 "metadata": {
  "name": "DataAccessTutorial_WannerAA201605"
 },
 "nbformat": 3,
 "nbformat_minor": 0,
 "worksheets": [
  {
   "cells": [
    {
     "cell_type": "markdown",
     "metadata": {},
     "source": "### WannerAA201605 data access tutorial\n\nThe image data of <a href=\"http://neurodata.io./wanner16\">WannerAA201605</a> can be accessed and downloaded at native (magnification 0) or downsampled resolution (magnification 1-6).\n- token: WannerAA201605\n- channel(s): SBEM1\n\n\nDetailed information on resolution, bounding box etc. of the data can be extracted using the neurodata <a href=\"http://docs.neurodata.io/ndstore/api/info_api.html#json-informatio-service\">JSON Information Service</a>:\n\nhttp://openconnecto.me/ocp/ca/WannerAA201605/info/\n\nNeurodata provides serveral APIs for data access using Python and/or web service endpoints."
    },
    {
     "cell_type": "markdown",
     "metadata": {},
     "source": "## HDF5 service\nA detailed description of the HDF5 data extraction service can be found <a href=\"http://docs.neurodata.io/ndstore/api/data_api.html#hdf5-service\">here</a>. For example, to download a HDF5-substack at native resolution (magnification 0) with the bounding box x=[8798,9054], y=[10517,10773], z=[1866,2122] use the following syntax: \n\nhttp://openconnecto.me/ocp/ca/WannerAA201605/SBEM1/hdf5/0/8798,9054/10517,10773/1866,2122/\n\n## Image slice service\nA detailed description of the image slice service can be found <a href=\"http://docs.neurodata.io/ndstore/api/data_api.html#image-slice-service\">here</a>. For example, to download a XY-cutout at z=1994 at native resolution (magnification 0) with the bounding box x=[8414,9438], y=[9877,10901] use the following syntax:\n\nhttp://openconnecto.me/ocp/ca/WannerAA201605/SBEM1/xy/0/8414,9438/9877,10901/1994/\n\nThe same slice can also be extract using the Python library <a href=\"http://docs.neurodata.io/nddocs/ndio/\">ndio</a>:"
    },
    {
     "cell_type": "code",
     "collapsed": false,
     "input": "# Example image slice service\nimport ndio.remote.neurodata as neurodata\nimport pylab as plt\n\ntoken = 'WannerAA201605' \nchannel = 'SBEM1'\nmagnification = 0\n\nxstart = 8414\nxstop  = 9438 \nystart = 9877\nystop = 10901 \nz_index = 1994\n\nnd = neurodata()\n\nXYcutout = nd.get_xy_slice(token,channel,xstart,xstop,ystart,ystop,z_index,magnification)\n\nplt.imshow(XYcutout)\nplt.set_cmap('gray')\nplt.show()\n",
     "language": "python",
     "metadata": {},
     "outputs": []
    }
   ],
   "metadata": {}
  }
 ]
}